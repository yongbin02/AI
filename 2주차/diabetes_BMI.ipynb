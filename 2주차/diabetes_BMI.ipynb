{
  "nbformat": 4,
  "nbformat_minor": 0,
  "metadata": {
    "colab": {
      "provenance": [],
      "authorship_tag": "ABX9TyOWqhQ5Z2SRH6A8PKxhOtnC",
      "include_colab_link": true
    },
    "kernelspec": {
      "name": "python3",
      "display_name": "Python 3"
    },
    "language_info": {
      "name": "python"
    }
  },
  "cells": [
    {
      "cell_type": "markdown",
      "metadata": {
        "id": "view-in-github",
        "colab_type": "text"
      },
      "source": [
        "<a href=\"https://colab.research.google.com/github/yongbin02/AI/blob/main/2%EC%A3%BC%EC%B0%A8/diabetes_BMI.ipynb\" target=\"_parent\"><img src=\"https://colab.research.google.com/assets/colab-badge.svg\" alt=\"Open In Colab\"/></a>"
      ]
    },
    {
      "cell_type": "code",
      "execution_count": 1,
      "metadata": {
        "colab": {
          "base_uri": "https://localhost:8080/"
        },
        "id": "YFnERtNbKVLX",
        "outputId": "1474cc79-fee0-4fbf-e9d5-1aee11220c64"
      },
      "outputs": [
        {
          "output_type": "stream",
          "name": "stdout",
          "text": [
            "Mounted at /content/drive\n"
          ]
        }
      ],
      "source": [
        "from google.colab import drive\n",
        "drive.mount('/content/drive')"
      ]
    },
    {
      "cell_type": "code",
      "source": [
        "import pandas as pd\n",
        "from sklearn.model_selection import train_test_split\n",
        "from sklearn.tree import DecisionTreeRegressor\n",
        "from sklearn.ensemble import RandomForestRegressor\n",
        "from sklearn.linear_model import LinearRegression\n",
        "from sklearn.metrics import mean_squared_error\n",
        "\n",
        "# -----------------------------\n",
        "# 1) 데이터 준비\n",
        "# -----------------------------\n",
        "df = pd.read_csv(\"/content/drive/MyDrive/Colab Notebooks/AI/AI-diabetes/data/diabetes.csv\").dropna()\n",
        "\n",
        "# Outcome 제외하고 bmi로 비교 (회귀)\n",
        "X = df.drop(columns=[\"Outcome\", \"BMI\"])\n",
        "y = df[\"BMI\"]\n",
        "\n",
        "X_train, X_test, y_train, y_test = train_test_split(\n",
        "    X, y, test_size=0.2, random_state=42   # stratify 제거\n",
        ")\n",
        "\n",
        "# -----------------------------\n",
        "# 2) 모델 구성\n",
        "# -----------------------------\n",
        "dt = DecisionTreeRegressor(random_state=42)\n",
        "# 실행시간이 너무 오래걸려 n_estimatior변수 200->50으로 범위 수\n",
        "rf = RandomForestRegressor(n_estimators=50, random_state=42)\n",
        "lr = LinearRegression()\n",
        "\n",
        "# -----------------------------\n",
        "# 3) 모델 학습\n",
        "# -----------------------------\n",
        "dt.fit(X_train, y_train)\n",
        "rf.fit(X_train, y_train)\n",
        "lr.fit(X_train, y_train)\n",
        "\n",
        "# -----------------------------\n",
        "# 4) 모델 평가 (MSE)\n",
        "# -----------------------------\n",
        "dt_pred = dt.predict(X_test)\n",
        "rf_pred = rf.predict(X_test)\n",
        "lr_pred = lr.predict(X_test)\n",
        "\n",
        "dt_mse = mean_squared_error(y_test, dt_pred)\n",
        "rf_mse = mean_squared_error(y_test, rf_pred)\n",
        "lr_mse = mean_squared_error(y_test, lr_pred)\n",
        "\n",
        "print(\"=== 평균제곱근오차 (MSE) ===\")\n",
        "print(f\"Decision Tree      MSE: {dt_mse:.3f}\")\n",
        "print(f\"Random Forest      MSE: {rf_mse:.3f}\")\n",
        "print(f\"Linear Regression  MSE: {lr_mse:.3f}\")"
      ],
      "metadata": {
        "colab": {
          "base_uri": "https://localhost:8080/"
        },
        "id": "4UV8A3cKKe3d",
        "outputId": "9129761f-a403-491a-e67e-fd4f2686059b"
      },
      "execution_count": 3,
      "outputs": [
        {
          "output_type": "stream",
          "name": "stdout",
          "text": [
            "=== 평균제곱근오차 (MSE) ===\n",
            "Decision Tree      MSE: 104.127\n",
            "Random Forest      MSE: 47.438\n",
            "Linear Regression  MSE: 52.241\n"
          ]
        }
      ]
    }
  ]
}