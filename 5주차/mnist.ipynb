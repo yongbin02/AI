{
  "nbformat": 4,
  "nbformat_minor": 0,
  "metadata": {
    "colab": {
      "provenance": [],
      "toc_visible": true,
      "authorship_tag": "ABX9TyNMq3f0gCl96px43iVdNQRQ",
      "include_colab_link": true
    },
    "kernelspec": {
      "name": "python3",
      "display_name": "Python 3"
    },
    "language_info": {
      "name": "python"
    }
  },
  "cells": [
    {
      "cell_type": "markdown",
      "metadata": {
        "id": "view-in-github",
        "colab_type": "text"
      },
      "source": [
        "<a href=\"https://colab.research.google.com/github/yongbin02/AI/blob/main/5%EC%A3%BC%EC%B0%A8/mnist.ipynb\" target=\"_parent\"><img src=\"https://colab.research.google.com/assets/colab-badge.svg\" alt=\"Open In Colab\"/></a>"
      ]
    },
    {
      "cell_type": "code",
      "source": [
        "import matplotlib.pyplot as plt\n",
        "from sklearn import datasets, metrics\n",
        "from sklearn.model_selection import train_test_split\n",
        "from sklearn.neighbors import KNeighborsClassifier\n",
        "from sklearn.tree import DecisionTreeClassifier\n",
        "from sklearn.linear_model import LogisticRegression\n",
        "from sklearn.ensemble import RandomForestClassifier"
      ],
      "metadata": {
        "id": "NqOkO5NaPx_z"
      },
      "execution_count": 28,
      "outputs": []
    },
    {
      "cell_type": "code",
      "source": [
        "# ----------------------\n",
        "# 1. 데이터 세트 읽기\n",
        "# ----------------------\n",
        "\n",
        "digits = datasets.load_digits()\n",
        "plt.imshow(digits.images[0], cmap=plt.cm.gray_r, interpolation='nearest')\n",
        "plt.show()"
      ],
      "metadata": {
        "colab": {
          "base_uri": "https://localhost:8080/",
          "height": 430
        },
        "id": "mNdrfvU-QLXl",
        "outputId": "45ce7364-d6a7-47b5-85fc-041e9aaf2e70"
      },
      "execution_count": 29,
      "outputs": [
        {
          "output_type": "display_data",
          "data": {
            "text/plain": [
              "<Figure size 640x480 with 1 Axes>"
            ],
            "image/png": "[encoded data removed]"
          },
          "metadata": {}
        }
      ]
    },
    {
      "cell_type": "code",
      "source": [
        "# --------------------\n",
        "# 2. 이미지 평탄화\n",
        "# --------------------\n",
        "\n",
        "n_samples = len(digits.images)\n",
        "data = digits.images.reshape((n_samples, -1))"
      ],
      "metadata": {
        "id": "TDmMei_WQkEs"
      },
      "execution_count": 30,
      "outputs": []
    },
    {
      "cell_type": "code",
      "source": [
        "# --------------------------------------\n",
        "# 3. 훈련 데이터 및 테스트 데이터 분리\n",
        "# --------------------------------------\n",
        "\n",
        "X_train, X_test, y_train, y_test = train_test_split(\n",
        "    data, digits.target, test_size=0.2)"
      ],
      "metadata": {
        "id": "8IftT6LsRHmp"
      },
      "execution_count": 31,
      "outputs": []
    },
    {
      "cell_type": "code",
      "source": [
        "# --------------------------------\n",
        "# 4. 모델별 학습 및 정확도 측정\n",
        "# --------------------------------\n",
        "\n",
        "print(\"--- 모델별 정확도 ---\")\n",
        "# 4.1. KNN\n",
        "knn = KNeighborsClassifier(n_neighbors=6)\n",
        "knn.fit(X_train, y_train)\n",
        "y_pred_knn = knn.predict(X_test)\n",
        "score_knn = metrics.accuracy_score(y_test, y_pred_knn)\n",
        "print(f\"K-최근접 이웃(KNN) 정확도: {score_knn:.4f}\")\n",
        "\n",
        "# 4.2. DT (Decision Tree)\n",
        "dt = DecisionTreeClassifier(random_state=42)\n",
        "dt.fit(X_train, y_train)\n",
        "y_pred_dt = dt.predict(X_test)\n",
        "score_dt = metrics.accuracy_score(y_test, y_pred_dt)\n",
        "print(f\"결정 트리(DT) 정확도: {score_dt:.4f}\")\n",
        "\n",
        "# 4.3. LR (Logistic Regression)\n",
        "lr = LogisticRegression(max_iter=5000, random_state=42)\n",
        "lr.fit(X_train, y_train)\n",
        "y_pred_lr = lr.predict(X_test)\n",
        "score_lr = metrics.accuracy_score(y_test, y_pred_lr)\n",
        "print(f\"로지스틱 회귀(LR) 정확도: {score_lr:.4f}\")\n",
        "\n",
        "# 4.4. RF (Random Forest)\n",
        "rf = RandomForestClassifier(random_state=42)\n",
        "rf.fit(X_train, y_train)\n",
        "y_pred_rf = rf.predict(X_test)\n",
        "score_rf = metrics.accuracy_score(y_test, y_pred_rf)\n",
        "print(f\"랜덤 포레스트(RF) 정확도: {score_rf:.4f}\")"
      ],
      "metadata": {
        "colab": {
          "base_uri": "https://localhost:8080/"
        },
        "id": "uR_Jm6dNRb1z",
        "outputId": "155df808-dcce-4bf5-f8a8-caaf60b1d402"
      },
      "execution_count": 33,
      "outputs": [
        {
          "output_type": "stream",
          "name": "stdout",
          "text": [
            "--- 모델별 정확도 ---\n",
            "K-최근접 이웃(KNN) 정확도: 0.9944\n",
            "결정 트리(DT) 정확도: 0.8583\n",
            "로지스틱 회귀(LR) 정확도: 0.9528\n",
            "랜덤 포레스트(RF) 정확도: 0.9750\n"
          ]
        }
      ]
    },
    {
      "cell_type": "code",
      "source": [
        "# ----------------------------------\n",
        "# 5. 이미지에 대한 모델 별 예측 결과\n",
        "# ----------------------------------\n",
        "\n",
        "# 1차원 배열 이미지 -> 8X8 행렬로 변환해서 출력\n",
        "test_image = X_test[10]\n",
        "plt.imshow(test_image.reshape(8,8), cmap=plt.cm.gray_r, interpolation='nearest')\n",
        "\n",
        "# predict는 2차원 배열을 입력으로 받으므\n",
        "pred_knn = knn.predict([test_image])\n",
        "pred_dt = dt.predict([test_image])\n",
        "pred_lr = lr.predict([test_image])\n",
        "pred_rf = rf.predict([test_image])\n",
        "\n",
        "print(\"\\n--- 테스트 이미지 예측 결과 ---\")\n",
        "print(f\"KNN 예측: {pred_knn[0]}\")\n",
        "print(f\"DT 예측:  {pred_dt[0]}\")\n",
        "print(f\"LR 예측:  {pred_lr[0]}\")\n",
        "print(f\"RF 예측:  {pred_rf[0]}\")"
      ],
      "metadata": {
        "colab": {
          "base_uri": "https://localhost:8080/",
          "height": 542
        },
        "id": "hG9exa97SVUO",
        "outputId": "4e831291-0e3e-446f-a407-4a20d45a00b0"
      },
      "execution_count": 34,
      "outputs": [
        {
          "output_type": "stream",
          "name": "stdout",
          "text": [
            "\n",
            "--- 테스트 이미지 예측 결과 ---\n",
            "KNN 예측: 2\n",
            "DT 예측:  2\n",
            "LR 예측:  2\n",
            "RF 예측:  2\n"
          ]
        },
        {
          "output_type": "display_data",
          "data": {
            "text/plain": [
              "<Figure size 640x480 with 1 Axes>"
            ],
            "image/png": "[encoded data removed]"
          },
          "metadata": {}
        }
      ]
    },
    {
      "cell_type": "code",
      "source": [],
      "metadata": {
        "id": "CUXPxHyZS6-m"
      },
      "execution_count": null,
      "outputs": []
    }
  ]
}