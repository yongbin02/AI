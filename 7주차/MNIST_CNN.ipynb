{
  "nbformat": 4,
  "nbformat_minor": 0,
  "metadata": {
    "colab": {
      "provenance": [],
      "toc_visible": true,
      "authorship_tag": "ABX9TyMUESBcFG0zvmAep0YFFMNF",
      "include_colab_link": true
    },
    "kernelspec": {
      "name": "python3",
      "display_name": "Python 3"
    },
    "language_info": {
      "name": "python"
    }
  },
  "cells": [
    {
      "cell_type": "markdown",
      "metadata": {
        "id": "view-in-github",
        "colab_type": "text"
      },
      "source": [
        "<a href=\"https://colab.research.google.com/github/yongbin02/AI/blob/main/7%EC%A3%BC%EC%B0%A8/MNIST_CNN.ipynb\" target=\"_parent\"><img src=\"https://colab.research.google.com/assets/colab-badge.svg\" alt=\"Open In Colab\"/></a>"
      ]
    },
    {
      "cell_type": "code",
      "execution_count": 1,
      "metadata": {
        "id": "FfD7WkKaH9_T"
      },
      "outputs": [],
      "source": [
        "import tensorflow as tf\n",
        "from tensorflow.keras.models import Sequential\n",
        "from tensorflow.keras.layers import Conv2D, MaxPooling2D, Flatten, Dense\n",
        "from tensorflow.keras.datasets import fashion_mnist\n",
        "from tensorflow.keras.utils import to_categorical\n",
        "import numpy as np\n",
        "import matplotlib.pyplot as plt"
      ]
    },
    {
      "cell_type": "code",
      "source": [
        "# 1. 데이터 준비\n",
        "# 패션 MNIST 데이터셋 로드\n",
        "(x_train, y_train), (x_test, y_test) = fashion_mnist.load_data()"
      ],
      "metadata": {
        "colab": {
          "base_uri": "https://localhost:8080/"
        },
        "id": "BkR3Vz_DILLi",
        "outputId": "66573226-da1b-4fbc-fb93-2c2afb483eb2"
      },
      "execution_count": 2,
      "outputs": [
        {
          "output_type": "stream",
          "name": "stdout",
          "text": [
            "Downloading data from https://storage.googleapis.com/tensorflow/tf-keras-datasets/train-labels-idx1-ubyte.gz\n",
            "\u001b[1m29515/29515\u001b[0m \u001b[32m━━━━━━━━━━━━━━━━━━━━\u001b[0m\u001b[37m\u001b[0m \u001b[1m0s\u001b[0m 0us/step\n",
            "Downloading data from https://storage.googleapis.com/tensorflow/tf-keras-datasets/train-images-idx3-ubyte.gz\n",
            "\u001b[1m26421880/26421880\u001b[0m \u001b[32m━━━━━━━━━━━━━━━━━━━━\u001b[0m\u001b[37m\u001b[0m \u001b[1m0s\u001b[0m 0us/step\n",
            "Downloading data from https://storage.googleapis.com/tensorflow/tf-keras-datasets/t10k-labels-idx1-ubyte.gz\n",
            "\u001b[1m5148/5148\u001b[0m \u001b[32m━━━━━━━━━━━━━━━━━━━━\u001b[0m\u001b[37m\u001b[0m \u001b[1m0s\u001b[0m 0us/step\n",
            "Downloading data from https://storage.googleapis.com/tensorflow/tf-keras-datasets/t10k-images-idx3-ubyte.gz\n",
            "\u001b[1m4422102/4422102\u001b[0m \u001b[32m━━━━━━━━━━━━━━━━━━━━\u001b[0m\u001b[37m\u001b[0m \u001b[1m0s\u001b[0m 0us/step\n"
          ]
        }
      ]
    },
    {
      "cell_type": "code",
      "source": [
        "# 데이터 정규화 (0~255 범위의 픽셀 값을 0~1 범위로 조정)\n",
        "x_train = x_train / 255.0\n",
        "x_test = x_test / 255.0\n",
        "\n",
        "# CNN 모델에 입력하기 위해 데이터 차원 변경 (채널 차원 추가)\n",
        "# (60000, 28, 28) -> (60000, 28, 28, 1)\n",
        "x_train = x_train[..., tf.newaxis]\n",
        "x_test = x_test[..., tf.newaxis]\n",
        "\n",
        "# 레이블을 원-핫 인코딩으로 변환\n",
        "y_train_categorical = to_categorical(y_train, 10)\n",
        "y_test_categorical = to_categorical(y_test, 10)\n",
        "\n",
        "# 클래스 이름 정의\n",
        "class_names = ['T-shirt/top', 'Trouser', 'Pullover', 'Dress', 'Coat',\n",
        "               'Sandal', 'Shirt', 'Sneaker', 'Bag', 'Ankle boot']"
      ],
      "metadata": {
        "id": "wHnlLBE4IM9X"
      },
      "execution_count": 3,
      "outputs": []
    },
    {
      "cell_type": "code",
      "source": [
        "# 2. CNN 모델 구축\n",
        "model = Sequential([\n",
        "    # 첫 번째 합성곱 레이어: 32개의 3x3 필터, 활성화 함수 ReLU\n",
        "    Conv2D(32, (3, 3), activation='relu', input_shape=(28, 28, 1)),\n",
        "    # 첫 번째 풀링 레이어: 2x2 풀링 윈도우\n",
        "    MaxPooling2D((2, 2)),\n",
        "    # 두 번째 합성곱 레이어: 64개의 3x3 필터\n",
        "    Conv2D(64, (3, 3), activation='relu'),\n",
        "    # 두 번째 풀링 레이어\n",
        "    MaxPooling2D((2, 2)),\n",
        "    # 3D 특성 맵을 1D 벡터로 변환\n",
        "    Flatten(),\n",
        "    # 64개의 뉴런을 가진 완전 연결 계층\n",
        "    Dense(64, activation='relu'),\n",
        "    # 10개의 뉴런을 가진 출력층 (클래스 수와 동일)\n",
        "    Dense(10, activation='softmax')\n",
        "])"
      ],
      "metadata": {
        "id": "uz6IH82iIQ7e"
      },
      "execution_count": 7,
      "outputs": []
    },
    {
      "cell_type": "code",
      "source": [
        "# 3. 모델 컴파일\n",
        "model.compile(optimizer='adam',\n",
        "              loss='categorical_crossentropy',\n",
        "              metrics=['accuracy'])"
      ],
      "metadata": {
        "id": "c5Q5HIJ-ITVc"
      },
      "execution_count": 8,
      "outputs": []
    },
    {
      "cell_type": "code",
      "source": [
        "# 4. 모델 훈련\n",
        "history = model.fit(x_train, y_train_categorical, epochs=5,\n",
        "                    validation_data=(x_test, y_test_categorical))"
      ],
      "metadata": {
        "colab": {
          "base_uri": "https://localhost:8080/"
        },
        "id": "_0zVuJ6XIVaP",
        "outputId": "230d5924-11b3-4adf-f254-540d5ff3eeae"
      },
      "execution_count": 9,
      "outputs": [
        {
          "output_type": "stream",
          "name": "stdout",
          "text": [
            "Epoch 1/5\n",
            "\u001b[1m1875/1875\u001b[0m \u001b[32m━━━━━━━━━━━━━━━━━━━━\u001b[0m\u001b[37m\u001b[0m \u001b[1m65s\u001b[0m 34ms/step - accuracy: 0.7654 - loss: 0.6503 - val_accuracy: 0.8633 - val_loss: 0.3680\n",
            "Epoch 2/5\n",
            "\u001b[1m1875/1875\u001b[0m \u001b[32m━━━━━━━━━━━━━━━━━━━━\u001b[0m\u001b[37m\u001b[0m \u001b[1m62s\u001b[0m 33ms/step - accuracy: 0.8810 - loss: 0.3329 - val_accuracy: 0.8897 - val_loss: 0.3128\n",
            "Epoch 3/5\n",
            "\u001b[1m1875/1875\u001b[0m \u001b[32m━━━━━━━━━━━━━━━━━━━━\u001b[0m\u001b[37m\u001b[0m \u001b[1m80s\u001b[0m 32ms/step - accuracy: 0.8999 - loss: 0.2737 - val_accuracy: 0.8904 - val_loss: 0.3042\n",
            "Epoch 4/5\n",
            "\u001b[1m1875/1875\u001b[0m \u001b[32m━━━━━━━━━━━━━━━━━━━━\u001b[0m\u001b[37m\u001b[0m \u001b[1m60s\u001b[0m 32ms/step - accuracy: 0.9123 - loss: 0.2381 - val_accuracy: 0.8974 - val_loss: 0.2713\n",
            "Epoch 5/5\n",
            "\u001b[1m1875/1875\u001b[0m \u001b[32m━━━━━━━━━━━━━━━━━━━━\u001b[0m\u001b[37m\u001b[0m \u001b[1m60s\u001b[0m 32ms/step - accuracy: 0.9207 - loss: 0.2145 - val_accuracy: 0.9050 - val_loss: 0.2595\n"
          ]
        }
      ]
    },
    {
      "cell_type": "code",
      "source": [
        "# 5. 모델 평가\n",
        "loss, accuracy = model.evaluate(x_test, y_test_categorical, verbose=2)\n",
        "print(f'\\n테스트 정확도: {accuracy:.4f}')\n"
      ],
      "metadata": {
        "colab": {
          "base_uri": "https://localhost:8080/"
        },
        "id": "-Lw0KMzuKr0O",
        "outputId": "facf19b7-dccc-49c1-b5ab-51bee6023d19"
      },
      "execution_count": 10,
      "outputs": [
        {
          "output_type": "stream",
          "name": "stdout",
          "text": [
            "313/313 - 3s - 11ms/step - accuracy: 0.9050 - loss: 0.2595\n",
            "\n",
            "테스트 정확도: 0.9050\n"
          ]
        }
      ]
    },
    {
      "cell_type": "code",
      "source": [
        "# 6. 예측 및 결과 시각화\n",
        "# 테스트 데이터의 첫 번째 이미지로 예측 수행\n",
        "predictions = model.predict(x_test)\n",
        "predicted_label = np.argmax(predictions[0])\n",
        "true_label = y_test[0]\n",
        "plt.figure(figsize=(6, 4))\n",
        "\n",
        "# CNN 입력은 4차원이므로 시각화를 위해 2차원으로 축소\n",
        "plt.imshow(np.squeeze(x_test[0]), cmap=plt.cm.binary)\n",
        "plt.title(f\"real: {class_names[true_label]}, predict: {class_names[predicted_label]}\")\n",
        "plt.colorbar()\n",
        "plt.grid(False)\n",
        "plt.show()"
      ],
      "metadata": {
        "colab": {
          "base_uri": "https://localhost:8080/",
          "height": 410
        },
        "id": "ZOsuaZAeKv4o",
        "outputId": "adaa34d6-4de7-44e4-fa9d-359c8a3119bd"
      },
      "execution_count": 12,
      "outputs": [
        {
          "output_type": "stream",
          "name": "stdout",
          "text": [
            "\u001b[1m313/313\u001b[0m \u001b[32m━━━━━━━━━━━━━━━━━━━━\u001b[0m\u001b[37m\u001b[0m \u001b[1m3s\u001b[0m 9ms/step\n"
          ]
        },
        {
          "output_type": "display_data",
          "data": {
            "text/plain": [
              "<Figure size 600x400 with 2 Axes>"
            ],
            "image/png": "[encoded data removed]"
          },
          "metadata": {}
        }
      ]
    }
  ]
}